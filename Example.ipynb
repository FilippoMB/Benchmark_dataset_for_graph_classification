{
 "cells": [
  {
   "cell_type": "code",
   "execution_count": 5,
   "metadata": {},
   "outputs": [],
   "source": [
    "from time import time\n",
    "import numpy as np\n",
    "\n",
    "from sklearn.metrics import accuracy_score\n",
    "from sklearn.model_selection import train_test_split\n",
    "from sklearn import svm\n",
    "\n",
    "from grakel import datasets, GraphKernel, graph_from_networkx"
   ]
  },
  {
   "cell_type": "markdown",
   "metadata": {},
   "source": [
    "### Load datasets"
   ]
  },
  {
   "cell_type": "code",
   "execution_count": 6,
   "metadata": {},
   "outputs": [],
   "source": [
    "dataset_name = \"hard_small\" # options: {easy_small, easy, hard_small, hard}\n",
    "\n",
    "loaded = np.load('datasets/'+dataset_name+'.npz', allow_pickle=True)\n",
    "G_tr = [_ for _ in loaded['tr_graphs']] # networkx graphs\n",
    "y_train = loaded['tr_class'] \n",
    "G_te = [_ for _ in loaded['te_graphs']] # networkx graphs\n",
    "y_test = loaded['te_class']\n",
    "\n",
    "# Put the data in GraKel format\n",
    "G_train = graph_from_networkx(G_tr, node_labels_tag='features')\n",
    "G_train = [g for g in G_train]\n",
    "y_train = np.argmax(y_train, axis=-1)\n",
    "G_test = graph_from_networkx(G_te, node_labels_tag='features')\n",
    "G_test = [g for g in G_test]\n",
    "y_test = np.argmax(y_test, axis=-1)"
   ]
  },
  {
   "cell_type": "markdown",
   "metadata": {},
   "source": [
    "### Train and evaluate graph kernels"
   ]
  },
  {
   "cell_type": "code",
   "execution_count": 7,
   "metadata": {},
   "outputs": [
    {
     "name": "stdout",
     "output_type": "stream",
     "text": [
      "shortest_path -- Accuracy: 72.22 % | Took: 22.68 s\n",
      "graphlet_sampling -- Accuracy: 44.44 % | Took: 69.99 s\n",
      "pyramid_match -- Accuracy: 36.11 % | Took: 5.68 s\n",
      "svm_theta -- Accuracy: 33.33 % | Took: 7.04 s\n",
      "neighborhood_hash -- Accuracy: 80.56 % | Took: 5.13 s\n",
      "subtree_wl -- Accuracy: 30.56 % | Took: 0.04 s\n",
      "odd_sth -- Accuracy: 44.44 % | Took: 51.12 s\n",
      "propagation -- Accuracy: 36.11 % | Took: 5.52 s\n",
      "pyramid_match -- Accuracy: 36.11 % | Took: 5.79 s\n",
      "vertex_histogram -- Accuracy: 30.56 % | Took: 0.03 s\n",
      "weisfeiler_lehman -- Accuracy: 27.78 % | Took: 104.29 s\n"
     ]
    },
    {
     "name": "stderr",
     "output_type": "stream",
     "text": [
      "/home/filippo/anaconda3/envs/research/lib/python3.6/site-packages/grakel/graph.py:305: UserWarning: changing format from \"adjacency\" to \"all\"\n",
      "  warnings.warn('changing format from \"adjacency\" to \"all\"')\n"
     ]
    },
    {
     "name": "stdout",
     "output_type": "stream",
     "text": [
      "core_framework -- Accuracy: 36.11 % | Took: 19.8 s\n"
     ]
    }
   ],
   "source": [
    "# Create a list with the graph kernels to evaluate\n",
    "# For more kernels and information:\n",
    "# https://ysig.github.io/GraKeL/dev/generated/grakel.GraphKernel.html#grakel.GraphKernel\n",
    "kernel_names = [\n",
    "                \"shortest_path\", \n",
    "                \"graphlet_sampling\", \n",
    "                \"pyramid_match\", \n",
    "                 \"svm_theta\",\n",
    "                \"neighborhood_hash\",\n",
    "                \"subtree_wl\",\n",
    "                \"odd_sth\",\n",
    "                \"propagation\",\n",
    "                \"pyramid_match\",\n",
    "                \"vertex_histogram\",\n",
    "                \"weisfeiler_lehman\",\n",
    "                \"core_framework\"\n",
    "                ]\n",
    "\n",
    "for k_ in kernel_names:\n",
    "    \n",
    "    start = time()\n",
    "    \n",
    "    # General kernels\n",
    "    if k_ in [\"weisfeiler_lehman\" , \"core_framework\"]:\n",
    "        gk = GraphKernel(kernel=[{\"name\": k_}, {\"name\": \"propagation\"}], normalize=True)\n",
    "    \n",
    "    # Base kernels\n",
    "    else:\n",
    "        gk = GraphKernel(kernel=[{\"name\": k_}], normalize=True)\n",
    "\n",
    "    # Calculate the kernel matrix\n",
    "    K_train = gk.fit_transform(G_train)\n",
    "    K_test = gk.transform(G_test)\n",
    "    \n",
    "    # Initialise an SVM and fit\n",
    "    clf = svm.SVC(kernel='precomputed', C=1)\n",
    "    clf.fit(K_train, y_train)\n",
    "    \n",
    "    # Compute predictions on test set\n",
    "    y_pred = clf.predict(K_test)\n",
    "    \n",
    "    # Calculate accuracy of classification\n",
    "    acc = accuracy_score(y_test, y_pred)\n",
    "    \n",
    "    end = time()\n",
    "    print(k_, \"-- Accuracy:\", str(round(acc*100, 2)), \"% | Took:\",\n",
    "          str(round(end - start, 2)), \"s\")"
   ]
  },
  {
   "cell_type": "code",
   "execution_count": null,
   "metadata": {},
   "outputs": [],
   "source": []
  }
 ],
 "metadata": {
  "kernelspec": {
   "display_name": "Python 3",
   "language": "python",
   "name": "python3"
  },
  "language_info": {
   "codemirror_mode": {
    "name": "ipython",
    "version": 3
   },
   "file_extension": ".py",
   "mimetype": "text/x-python",
   "name": "python",
   "nbconvert_exporter": "python",
   "pygments_lexer": "ipython3",
   "version": "3.6.7"
  }
 },
 "nbformat": 4,
 "nbformat_minor": 2
}
