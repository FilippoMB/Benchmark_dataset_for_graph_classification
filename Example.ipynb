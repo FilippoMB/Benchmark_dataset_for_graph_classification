{
 "cells": [
  {
   "cell_type": "code",
   "execution_count": 1,
   "metadata": {},
   "outputs": [],
   "source": [
    "from time import time\n",
    "import numpy as np\n",
    "import networkx as nx\n",
    "\n",
    "from sklearn.metrics import accuracy_score\n",
    "from sklearn.model_selection import train_test_split\n",
    "from sklearn import svm\n",
    "\n",
    "from grakel import datasets, GraphKernel, graph_from_networkx"
   ]
  },
  {
   "cell_type": "markdown",
   "metadata": {},
   "source": [
    "### Load datasets"
   ]
  },
  {
   "cell_type": "code",
   "execution_count": 2,
   "metadata": {},
   "outputs": [],
   "source": [
    "dataset_name = \"hard_small\" # options: {easy_small, easy, hard_small, hard}\n",
    "\n",
    "loaded = np.load('datasets/'+dataset_name+'.npz', allow_pickle=True)\n",
    "A_train = list(loaded['tr_adj']) # list of adjacency matrices\n",
    "X_train = loaded['tr_feat'] # node features\n",
    "y_train = loaded['tr_class'] # class labels\n",
    "A_test = list(loaded['te_adj']) # list of adjacency matrices\n",
    "X_test = loaded['te_feat'] # node features\n",
    "y_test = loaded['te_class'] # class labels\n",
    "\n",
    "# Convert to networkx format\n",
    "G_tr = []\n",
    "for a, x in zip(A_train, X_train):\n",
    "    G = nx.from_scipy_sparse_matrix(a)\n",
    "    x_tuple = tuple(map(tuple, x))\n",
    "    nx.set_node_attributes(G, dict(enumerate(x_tuple)), 'features')\n",
    "    G_tr.append(G)\n",
    "G_te = []\n",
    "for a, x in zip(A_test, X_test):\n",
    "    G = nx.from_scipy_sparse_matrix(a)\n",
    "    x_tuple = tuple(map(tuple, x))\n",
    "    nx.set_node_attributes(G, dict(enumerate(x_tuple)), 'features')\n",
    "    G_te.append(G)\n",
    "\n",
    "# Convert to GraKel format\n",
    "G_train = graph_from_networkx(G_tr, node_labels_tag='features')\n",
    "G_train = [g for g in G_train]\n",
    "y_train = np.argmax(y_train, axis=-1)\n",
    "G_test = graph_from_networkx(G_te, node_labels_tag='features')\n",
    "G_test = [g for g in G_test]\n",
    "y_test = np.argmax(y_test, axis=-1)"
   ]
  },
  {
   "cell_type": "markdown",
   "metadata": {},
   "source": [
    "### Train and evaluate graph kernels"
   ]
  },
  {
   "cell_type": "code",
   "execution_count": 3,
   "metadata": {},
   "outputs": [
    {
     "name": "stdout",
     "output_type": "stream",
     "text": [
      "shortest_path -- Accuracy: 69.23 % | Took: 7.85 s\n",
      "graphlet_sampling -- Accuracy: 38.46 % | Took: 37.84 s\n",
      "pyramid_match -- Accuracy: 23.08 % | Took: 2.86 s\n",
      "svm_theta -- Accuracy: 23.08 % | Took: 2.91 s\n",
      "neighborhood_hash -- Accuracy: 69.23 % | Took: 2.71 s\n",
      "subtree_wl -- Accuracy: 15.38 % | Took: 0.03 s\n",
      "odd_sth -- Accuracy: 42.31 % | Took: 24.48 s\n",
      "propagation -- Accuracy: 53.85 % | Took: 2.61 s\n",
      "pyramid_match -- Accuracy: 23.08 % | Took: 3.47 s\n",
      "vertex_histogram -- Accuracy: 15.38 % | Took: 0.01 s\n",
      "weisfeiler_lehman -- Accuracy: 73.08 % | Took: 58.92 s\n",
      "core_framework -- Accuracy: 69.23 % | Took: 18.62 s\n"
     ]
    }
   ],
   "source": [
    "# Create a list with the graph kernels to evaluate\n",
    "# For more kernels and information:\n",
    "# https://ysig.github.io/GraKeL/dev/generated/grakel.GraphKernel.html#grakel.GraphKernel\n",
    "kernel_names = [\n",
    "                \"shortest_path\", \n",
    "                \"graphlet_sampling\", \n",
    "                \"pyramid_match\", \n",
    "                 \"svm_theta\",\n",
    "                \"neighborhood_hash\",\n",
    "                \"subtree_wl\",\n",
    "                \"odd_sth\",\n",
    "                \"propagation\",\n",
    "                \"vertex_histogram\",\n",
    "                \"weisfeiler_lehman\",\n",
    "                \"core_framework\"\n",
    "                ]\n",
    "\n",
    "for k_ in kernel_names:\n",
    "    \n",
    "    start = time()\n",
    "    \n",
    "    # General kernels\n",
    "    if k_ in [\"weisfeiler_lehman\" , \"core_framework\"]:\n",
    "        gk = GraphKernel(kernel=[{\"name\": k_}, {\"name\": \"shortest_path\"}], normalize=True)\n",
    "    \n",
    "    # Base kernels\n",
    "    else:\n",
    "        gk = GraphKernel(kernel=[{\"name\": k_}], normalize=True)\n",
    "\n",
    "    # Calculate the kernel matrix\n",
    "    K_train = gk.fit_transform(G_train)\n",
    "    K_test = gk.transform(G_test)\n",
    "    \n",
    "    # Initialise an SVM and fit\n",
    "    clf = svm.SVC(kernel='precomputed', C=1)\n",
    "    clf.fit(K_train, y_train)\n",
    "    \n",
    "    # Compute predictions on test set\n",
    "    y_pred = clf.predict(K_test)\n",
    "    \n",
    "    # Calculate accuracy of classification\n",
    "    acc = accuracy_score(y_test, y_pred)\n",
    "    \n",
    "    end = time()\n",
    "    print(k_, \"-- Accuracy:\", str(round(acc*100, 2)), \"% | Took:\",\n",
    "          str(round(end - start, 2)), \"s\")"
   ]
  },
  {
   "cell_type": "code",
   "execution_count": null,
   "metadata": {},
   "outputs": [],
   "source": []
  }
 ],
 "metadata": {
  "kernelspec": {
   "display_name": "Python 3",
   "language": "python",
   "name": "python3"
  },
  "language_info": {
   "codemirror_mode": {
    "name": "ipython",
    "version": 3
   },
   "file_extension": ".py",
   "mimetype": "text/x-python",
   "name": "python",
   "nbconvert_exporter": "python",
   "pygments_lexer": "ipython3",
   "version": "3.6.7"
  }
 },
 "nbformat": 4,
 "nbformat_minor": 2
}
